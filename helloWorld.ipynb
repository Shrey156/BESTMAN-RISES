{
  "nbformat": 4,
  "nbformat_minor": 0,
  "metadata": {
    "colab": {
      "name": "helloWorld.ipynb",
      "provenance": [],
      "collapsed_sections": [],
      "authorship_tag": "ABX9TyMs+aBQo6/mxf/jOCN1q72F",
      "include_colab_link": true
    },
    "kernelspec": {
      "name": "python3",
      "display_name": "Python 3"
    },
    "language_info": {
      "name": "python"
    }
  },
  "cells": [
    {
      "cell_type": "markdown",
      "metadata": {
        "id": "view-in-github",
        "colab_type": "text"
      },
      "source": [
        "<a href=\"https://colab.research.google.com/github/Shrey156/BESTMAN-RISES/blob/main/helloWorld.ipynb\" target=\"_parent\"><img src=\"https://colab.research.google.com/assets/colab-badge.svg\" alt=\"Open In Colab\"/></a>"
      ]
    },
    {
      "cell_type": "code",
      "execution_count": 5,
      "metadata": {
        "colab": {
          "base_uri": "https://localhost:8080/",
          "height": 35
        },
        "id": "zwJqkfBlfHk8",
        "outputId": "5a24ebb7-9c6b-4340-fa66-65d2c4758016"
      },
      "outputs": [
        {
          "output_type": "execute_result",
          "data": {
            "application/vnd.google.colaboratory.intrinsic+json": {
              "type": "string"
            },
            "text/plain": [
              "'hello'"
            ]
          },
          "metadata": {},
          "execution_count": 5
        }
      ],
      "source": [
        "listnew = [1,2,[3,4],[5,[100,200,['hello']],23,11],1,7]\n",
        "listnew[3][1][2][0]"
      ]
    },
    {
      "cell_type": "code",
      "source": [
        "user_input = int(input(\"Put your Temparature to convert it in Fahrenheit : \"))\n",
        "Fahrenheit = (user_input * 9/5)+32\n",
        "Fahrenheit"
      ],
      "metadata": {
        "colab": {
          "base_uri": "https://localhost:8080/"
        },
        "id": "rip2EV0zgV4C",
        "outputId": "a3fed603-fad5-4b0e-b8a6-7bdd1a91f940"
      },
      "execution_count": 9,
      "outputs": [
        {
          "name": "stdout",
          "output_type": "stream",
          "text": [
            "Put your Temparature to convert it in Fahrenheit : 5\n"
          ]
        },
        {
          "output_type": "execute_result",
          "data": {
            "text/plain": [
              "41.0"
            ]
          },
          "metadata": {},
          "execution_count": 9
        }
      ]
    },
    {
      "cell_type": "code",
      "source": [
        "first_num = int(input(\"Put the first num :\"))\n",
        "operation = input(\"which operation do you want to do it : \")\n",
        "second_num = int(input(\"Put the another num : \"))\n",
        "\n",
        "def addition(first_num,second_num):\n",
        "  return first_num + second_num\n",
        "\n",
        "def subtraction(first_num,second_num):\n",
        "  return first_num - second_num\n",
        "\n",
        "def multiplication(first_num,second_num):\n",
        "  return first_num * second_num\n",
        "\n",
        "def division(first_num,second_num):\n",
        "  return first_num / second_num\n",
        "\n",
        "if operation==\"+\":\n",
        "  print(addition(first_num,second_num))\n",
        "elif operation==\"-\":\n",
        "  print(subtraction(first_num,second_num))\n",
        "elif operation==\"*\":\n",
        "  print(multiplication(first_num,second_num))\n",
        "else:\n",
        "  print(division(first_num,second_num))\n"
      ],
      "metadata": {
        "colab": {
          "base_uri": "https://localhost:8080/"
        },
        "id": "A0jkYGf3hkiS",
        "outputId": "1a0da87a-5b8e-4947-c444-32e4b930d662"
      },
      "execution_count": 10,
      "outputs": [
        {
          "output_type": "stream",
          "name": "stdout",
          "text": [
            "Put the first num :5\n",
            "which operation do you want to do it : +\n",
            "Put the another num : 5\n",
            "10\n"
          ]
        }
      ]
    },
    {
      "cell_type": "code",
      "source": [
        "tuples=(1,2,3)\n",
        "lists=[1,2,3]\n",
        "lists[1]=3\n",
        "lists[1]\n",
        "tuples[1]"
      ],
      "metadata": {
        "colab": {
          "base_uri": "https://localhost:8080/",
          "height": 218
        },
        "id": "Fujms3I0jPZA",
        "outputId": "260251e0-ea29-41e1-fb41-00ca970198bd"
      },
      "execution_count": 14,
      "outputs": [
        {
          "output_type": "error",
          "ename": "TypeError",
          "evalue": "ignored",
          "traceback": [
            "\u001b[0;31m---------------------------------------------------------------------------\u001b[0m",
            "\u001b[0;31mTypeError\u001b[0m                                 Traceback (most recent call last)",
            "\u001b[0;32m<ipython-input-14-75de578aa200>\u001b[0m in \u001b[0;36m<module>\u001b[0;34m()\u001b[0m\n\u001b[1;32m      3\u001b[0m \u001b[0mlists\u001b[0m\u001b[0;34m[\u001b[0m\u001b[0;36m1\u001b[0m\u001b[0;34m]\u001b[0m\u001b[0;34m=\u001b[0m\u001b[0;36m3\u001b[0m\u001b[0;34m\u001b[0m\u001b[0;34m\u001b[0m\u001b[0m\n\u001b[1;32m      4\u001b[0m \u001b[0mlists\u001b[0m\u001b[0;34m[\u001b[0m\u001b[0;36m1\u001b[0m\u001b[0;34m]\u001b[0m\u001b[0;34m\u001b[0m\u001b[0;34m\u001b[0m\u001b[0m\n\u001b[0;32m----> 5\u001b[0;31m \u001b[0mtuples\u001b[0m\u001b[0;34m[\u001b[0m\u001b[0;36m1\u001b[0m\u001b[0;34m]\u001b[0m\u001b[0;34m=\u001b[0m\u001b[0;36m5\u001b[0m\u001b[0;34m\u001b[0m\u001b[0;34m\u001b[0m\u001b[0m\n\u001b[0m\u001b[1;32m      6\u001b[0m \u001b[0mtuples\u001b[0m\u001b[0;34m[\u001b[0m\u001b[0;36m1\u001b[0m\u001b[0;34m]\u001b[0m\u001b[0;34m\u001b[0m\u001b[0;34m\u001b[0m\u001b[0m\n",
            "\u001b[0;31mTypeError\u001b[0m: 'tuple' object does not support item assignment"
          ]
        }
      ]
    },
    {
      "cell_type": "code",
      "source": [
        "user_input = input(\"Any word : \")\n",
        "count=1\n",
        "for i in user_input:\n",
        "  if i==\" \" and i!=\"?\":\n",
        "    count+=1\n",
        "count"
      ],
      "metadata": {
        "colab": {
          "base_uri": "https://localhost:8080/"
        },
        "id": "eqD6qLXKjuJ9",
        "outputId": "dc0666ae-472b-4190-af5f-371da3b6e872"
      },
      "execution_count": 38,
      "outputs": [
        {
          "name": "stdout",
          "output_type": "stream",
          "text": [
            "Any word : hi hello how are you ?\n"
          ]
        },
        {
          "output_type": "execute_result",
          "data": {
            "text/plain": [
              "6"
            ]
          },
          "metadata": {},
          "execution_count": 38
        }
      ]
    }
  ]
}