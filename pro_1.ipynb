{
  "nbformat": 4,
  "nbformat_minor": 0,
  "metadata": {
    "colab": {
      "name": "pro 1.ipynb",
      "provenance": [],
      "collapsed_sections": [],
      "authorship_tag": "ABX9TyNV+VraTRJrpl9UCWEA4DtC",
      "include_colab_link": true
    },
    "kernelspec": {
      "name": "python3",
      "display_name": "Python 3"
    },
    "language_info": {
      "name": "python"
    }
  },
  "cells": [
    {
      "cell_type": "markdown",
      "metadata": {
        "id": "view-in-github",
        "colab_type": "text"
      },
      "source": [
        "<a href=\"https://colab.research.google.com/github/Shrey156/BESTMAN-RISES/blob/main/pro_1.ipynb\" target=\"_parent\"><img src=\"https://colab.research.google.com/assets/colab-badge.svg\" alt=\"Open In Colab\"/></a>"
      ]
    },
    {
      "cell_type": "code",
      "execution_count": 2,
      "metadata": {
        "colab": {
          "base_uri": "https://localhost:8080/"
        },
        "id": "Ubl5W4t_qdet",
        "outputId": "1dc352d0-a15d-4705-900e-752804b1d4d3"
      },
      "outputs": [
        {
          "output_type": "stream",
          "name": "stdout",
          "text": [
            "Enter the year to checked for leap year : 2000\n",
            "This is'nt leap year\n"
          ]
        }
      ],
      "source": [
        "user_input=int(input(\"Enter the year to checked for leap year : \"))\n",
        "\n",
        "if user_input%4==0 and user_input%100!=0 and user_input%400!=0:\n",
        "  print(\"This is the leap year\")\n",
        "else:\n",
        "  print(\"This is'nt leap year\")"
      ]
    },
    {
      "cell_type": "code",
      "source": [
        "height_cm = int(input(\"Enter the height in centimeters : \"))\n",
        "height_inches = height_cm*0.394\n",
        "height_feets = height_cm*0.0328\n",
        "print(\"The length in inches\",round(height_inches,2))\n",
        "print(\"The length in feets\",round(height_feets,2))"
      ],
      "metadata": {
        "colab": {
          "base_uri": "https://localhost:8080/"
        },
        "id": "Msj_2SCLsOlQ",
        "outputId": "bff79b4a-2ddb-4f36-d94b-dc3908265358"
      },
      "execution_count": 6,
      "outputs": [
        {
          "output_type": "stream",
          "name": "stdout",
          "text": [
            "Enter the height in centimeters : 552\n",
            "The length in inches 217.49\n",
            "The length in feets 18.11\n"
          ]
        }
      ]
    }
  ]
}